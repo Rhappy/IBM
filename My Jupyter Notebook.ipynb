{
  "cells": [
    {
      "cell_type": "markdown",
      "metadata": {},
      "source": [
        "# My Jupyter Notebook on IBM Watson Studio"
      ]
    },
    {
      "cell_type": "markdown",
      "metadata": {},
      "source": [
        "**Rhaphaella Morello**\n",
        "Data Scientist"
      ]
    },
    {
      "cell_type": "markdown",
      "metadata": {},
      "source": [
        "_I'm interested in Data Science because I'm a very curious person, so I would love to use my curiosity and observation skills to help people and companies achieve new ideas!_"
      ]
    },
    {
      "cell_type": "markdown",
      "metadata": {},
      "source": [
        "### My next code should print \"Hello, World!\", the most common print sentence."
      ]
    },
    {
      "cell_type": "code",
      "execution_count": 2,
      "metadata": {
        "trusted": true
      },
      "outputs": [
        {
          "name": "stdout",
          "output_type": "stream",
          "text": [
            "Hello, World!\n"
          ]
        }
      ],
      "source": [
        "print(\"Hello, World!\")"
      ]
    }
  ],
  "metadata": {
    "kernelspec": {
      "display_name": "Python (Pyodide)",
      "language": "python",
      "name": "python"
    },
    "language_info": {
      "codemirror_mode": {
        "name": "python",
        "version": 3
      },
      "file_extension": ".py",
      "mimetype": "text/x-python",
      "name": "python",
      "nbconvert_exporter": "python",
      "pygments_lexer": "ipython3",
      "version": "3.8"
    }
  },
  "nbformat": 4,
  "nbformat_minor": 4
}
